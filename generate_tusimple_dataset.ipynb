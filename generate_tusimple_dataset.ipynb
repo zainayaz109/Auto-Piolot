{
 "cells": [
  {
   "cell_type": "code",
   "execution_count": 1,
   "metadata": {
    "colab": {
     "base_uri": "https://localhost:8080/"
    },
    "executionInfo": {
     "elapsed": 21356,
     "status": "ok",
     "timestamp": 1677340777539,
     "user": {
      "displayName": "Zain Ayaz",
      "userId": "00806274398273992607"
     },
     "user_tz": -300
    },
    "id": "XA81YTejsJRw",
    "outputId": "e7a7d7f1-cd97-4522-f254-de948f3a9119"
   },
   "outputs": [
    {
     "name": "stdout",
     "output_type": "stream",
     "text": [
      "Mounted at /drive\n"
     ]
    }
   ],
   "source": [
    "from google.colab import drive\n",
    "drive.mount('/drive')"
   ]
  },
  {
   "cell_type": "code",
   "execution_count": 3,
   "metadata": {
    "executionInfo": {
     "elapsed": 473,
     "status": "ok",
     "timestamp": 1677340795445,
     "user": {
      "displayName": "Zain Ayaz",
      "userId": "00806274398273992607"
     },
     "user_tz": -300
    },
    "id": "5o8IE7AFsa41"
   },
   "outputs": [],
   "source": [
    "import glob\n",
    "import json\n",
    "import os\n",
    "import os.path as ops\n",
    "import shutil\n",
    "import tqdm\n",
    "\n",
    "import cv2\n",
    "import numpy as np"
   ]
  },
  {
   "cell_type": "code",
   "execution_count": null,
   "metadata": {
    "id": "oROQY1bS4DQX"
   },
   "outputs": [],
   "source": [
    "src_dir = './Auto-Piolot/tusimple_lanemark_detection_Challenge '\n",
    "tar_dir = './Auto-Piolot/lanenet-lane-detection/data'"
   ]
  },
  {
   "cell_type": "code",
   "execution_count": null,
   "metadata": {
    "id": "aJn-opce4VcH"
   },
   "outputs": [],
   "source": [
    "def process_json_file(json_file_path, src_dir, ori_dst_dir, binary_dst_dir, instance_dst_dir):\n",
    "    \"\"\"\n",
    "    :param json_file_path:\n",
    "    :param src_dir: origin clip file path\n",
    "    :param ori_dst_dir:\n",
    "    :param binary_dst_dir:\n",
    "    :param instance_dst_dir:\n",
    "    :return:\n",
    "    \"\"\"\n",
    "    assert ops.exists(json_file_path), '{:s} not exist'.format(json_file_path)\n",
    "\n",
    "    image_nums = len(os.listdir(ori_dst_dir))\n",
    "\n",
    "    with open(json_file_path, 'r') as file:\n",
    "        for line_index, line in enumerate(file):\n",
    "            info_dict = json.loads(line)\n",
    "\n",
    "            image_dir = ops.split(info_dict['raw_file'])[0]\n",
    "            image_dir_split = image_dir.split('/')[1:]\n",
    "            image_dir_split.append(ops.split(info_dict['raw_file'])[1])\n",
    "            image_name = '_'.join(image_dir_split)\n",
    "            image_path = ops.join(src_dir+'/train_set/', info_dict['raw_file'])\n",
    "            assert ops.exists(image_path), '{:s} not exist'.format(image_path)\n",
    "\n",
    "            h_samples = info_dict['h_samples']\n",
    "            lanes = info_dict['lanes']\n",
    "\n",
    "            image_name_new = '{:s}.png'.format('{:d}'.format(line_index + image_nums).zfill(4))\n",
    "\n",
    "            src_image = cv2.imread(image_path, cv2.IMREAD_COLOR)\n",
    "            dst_binary_image = np.zeros([src_image.shape[0], src_image.shape[1]], np.uint8)\n",
    "            dst_instance_image = np.zeros([src_image.shape[0], src_image.shape[1]], np.uint8)\n",
    "\n",
    "            for lane_index, lane in enumerate(lanes):\n",
    "                assert len(h_samples) == len(lane)\n",
    "                lane_x = []\n",
    "                lane_y = []\n",
    "                for index in range(len(lane)):\n",
    "                    if lane[index] == -2:\n",
    "                        continue\n",
    "                    else:\n",
    "                        ptx = lane[index]\n",
    "                        pty = h_samples[index]\n",
    "                        lane_x.append(ptx)\n",
    "                        lane_y.append(pty)\n",
    "                if not lane_x:\n",
    "                    continue\n",
    "                lane_pts = np.vstack((lane_x, lane_y)).transpose()\n",
    "                lane_pts = np.array([lane_pts], np.int64)\n",
    "\n",
    "                cv2.polylines(dst_binary_image, lane_pts, isClosed=False,\n",
    "                              color=255, thickness=5)\n",
    "                cv2.polylines(dst_instance_image, lane_pts, isClosed=False,\n",
    "                              color=lane_index * 50 + 20, thickness=5)\n",
    "\n",
    "            dst_binary_image_path = ops.join(binary_dst_dir, image_name_new)\n",
    "            dst_instance_image_path = ops.join(instance_dst_dir, image_name_new)\n",
    "            dst_rgb_image_path = ops.join(ori_dst_dir, image_name_new)\n",
    "\n",
    "            cv2.imwrite(dst_binary_image_path, dst_binary_image)\n",
    "            cv2.imwrite(dst_instance_image_path, dst_instance_image)\n",
    "            cv2.imwrite(dst_rgb_image_path, src_image)\n",
    "\n",
    "            print('Process {:s} success'.format(image_name))\n",
    "\n",
    "\n",
    "def gen_train_sample(src_dir, b_gt_image_dir, i_gt_image_dir, image_dir, val_size):\n",
    "    \"\"\"\n",
    "    generate sample index file\n",
    "    :param src_dir:\n",
    "    :param b_gt_image_dir:\n",
    "    :param i_gt_image_dir:\n",
    "    :param image_dir:\n",
    "    :return:\n",
    "    \"\"\"\n",
    "    with open('{:s}/training/train.txt'.format(src_dir), 'w') as file:\n",
    "\n",
    "        for image_name in tqdm.tqdm(sorted(os.listdir(b_gt_image_dir))[:-val_size]):\n",
    "            if not image_name.endswith('.png'):\n",
    "                continue\n",
    "\n",
    "            binary_gt_image_path = ops.join(b_gt_image_dir, image_name)\n",
    "            instance_gt_image_path = ops.join(i_gt_image_dir, image_name)\n",
    "            image_path = ops.join(image_dir, image_name)\n",
    "\n",
    "            assert ops.exists(image_path), '{:s} not exist'.format(image_path)\n",
    "            assert ops.exists(instance_gt_image_path), '{:s} not exist'.format(instance_gt_image_path)\n",
    "\n",
    "            b_gt_image = cv2.imread(binary_gt_image_path, cv2.IMREAD_COLOR)\n",
    "            i_gt_image = cv2.imread(instance_gt_image_path, cv2.IMREAD_COLOR)\n",
    "            image = cv2.imread(image_path, cv2.IMREAD_COLOR)\n",
    "\n",
    "            if b_gt_image is None or image is None or i_gt_image is None:\n",
    "                continue\n",
    "            else:\n",
    "                info = '{:s} {:s} {:s}'.format(image_path, binary_gt_image_path, instance_gt_image_path)\n",
    "                file.write(info + '\\n')\n",
    "\n",
    "    with open('{:s}/training/val.txt'.format(src_dir), 'w') as file:\n",
    "\n",
    "        for image_name in tqdm.tqdm(sorted(os.listdir(b_gt_image_dir))[-val_size:]):\n",
    "            if not image_name.endswith('.png'):\n",
    "                continue\n",
    "\n",
    "            binary_gt_image_path = ops.join(b_gt_image_dir, image_name)\n",
    "            instance_gt_image_path = ops.join(i_gt_image_dir, image_name)\n",
    "            image_path = ops.join(image_dir, image_name)\n",
    "\n",
    "            assert ops.exists(image_path), '{:s} not exist'.format(image_path)\n",
    "            assert ops.exists(instance_gt_image_path), '{:s} not exist'.format(instance_gt_image_path)\n",
    "\n",
    "            b_gt_image = cv2.imread(binary_gt_image_path, cv2.IMREAD_COLOR)\n",
    "            i_gt_image = cv2.imread(instance_gt_image_path, cv2.IMREAD_COLOR)\n",
    "            image = cv2.imread(image_path, cv2.IMREAD_COLOR)\n",
    "\n",
    "            if b_gt_image is None or image is None or i_gt_image is None:\n",
    "                continue\n",
    "            else:\n",
    "                info = '{:s} {:s} {:s}'.format(image_path, binary_gt_image_path, instance_gt_image_path)\n",
    "                file.write(info + '\\n')\n",
    "    return\n",
    "\n",
    "\n",
    "def process_tusimple_dataset(src_dir, tar_dir):\n",
    "    \"\"\"\n",
    "\n",
    "    :param src_dir:\n",
    "    :return:\n",
    "    \"\"\"\n",
    "    traing_folder_path = ops.join(tar_dir, 'training')\n",
    "    testing_folder_path = ops.join(tar_dir, 'testing')\n",
    "\n",
    "    os.makedirs(traing_folder_path, exist_ok=True)\n",
    "    os.makedirs(testing_folder_path, exist_ok=True)\n",
    "\n",
    "    for json_label_path in glob.glob('{:s}/train_set/label*.json'.format(src_dir)):\n",
    "        json_label_name = ops.split(json_label_path)[1]\n",
    "\n",
    "        shutil.copyfile(json_label_path, ops.join(traing_folder_path, json_label_name))\n",
    "\n",
    "    for json_label_path in glob.glob('{:s}/test_set/test*.json'.format(src_dir)):\n",
    "        json_label_name = ops.split(json_label_path)[1]\n",
    "\n",
    "        shutil.copyfile(json_label_path, ops.join(testing_folder_path, json_label_name))\n",
    "\n",
    "    gt_image_dir = ops.join(traing_folder_path, 'gt_image')\n",
    "    gt_binary_dir = ops.join(traing_folder_path, 'gt_binary_image')\n",
    "    gt_instance_dir = ops.join(traing_folder_path, 'gt_instance_image')\n",
    "\n",
    "    os.makedirs(gt_image_dir, exist_ok=True)\n",
    "    os.makedirs(gt_binary_dir, exist_ok=True)\n",
    "    os.makedirs(gt_instance_dir, exist_ok=True)\n",
    "\n",
    "    for json_label_path in glob.glob('{:s}/*.json'.format(traing_folder_path)):\n",
    "        process_json_file(json_label_path, src_dir, gt_image_dir, gt_binary_dir, gt_instance_dir)\n",
    "    val_size = 326\n",
    "    gen_train_sample(tar_dir, gt_binary_dir, gt_instance_dir, gt_image_dir, val_size)\n",
    "\n",
    "    return"
   ]
  },
  {
   "cell_type": "code",
   "execution_count": null,
   "metadata": {
    "colab": {
     "base_uri": "https://localhost:8080/"
    },
    "executionInfo": {
     "elapsed": 2002474,
     "status": "ok",
     "timestamp": 1675007355476,
     "user": {
      "displayName": "Zain Ayaz",
      "userId": "00806274398273992607"
     },
     "user_tz": -300
    },
    "id": "x3YOKpFW5AFg",
    "outputId": "5e38bee6-d3d2-4a16-83ad-35bf0b200d62"
   },
   "outputs": [
    {
     "name": "stderr",
     "output_type": "stream",
     "text": [
      "100%|██████████| 3300/3300 [30:22<00:00,  1.81it/s]\n",
      "100%|██████████| 326/326 [02:59<00:00,  1.81it/s]\n"
     ]
    }
   ],
   "source": [
    "process_tusimple_dataset(src_dir, tar_dir)"
   ]
  },
  {
   "cell_type": "code",
   "execution_count": null,
   "metadata": {
    "colab": {
     "base_uri": "https://localhost:8080/"
    },
    "executionInfo": {
     "elapsed": 3,
     "status": "ok",
     "timestamp": 1675011677680,
     "user": {
      "displayName": "Zain Ayaz",
      "userId": "00806274398273992607"
     },
     "user_tz": -300
    },
    "id": "xNFGddzVFGYx",
    "outputId": "d6058608-c785-4ace-d726-c2b6f852ad80"
   },
   "outputs": [
    {
     "name": "stdout",
     "output_type": "stream",
     "text": [
      "/drive/MyDrive/new_projects/lane_detection/lanenet-lane-detection\n"
     ]
    }
   ],
   "source": [
    "%cd /drive/MyDrive/new_projects/lane_detection/lanenet-lane-detection"
   ]
  },
  {
   "cell_type": "code",
   "execution_count": null,
   "metadata": {
    "colab": {
     "base_uri": "https://localhost:8080/"
    },
    "executionInfo": {
     "elapsed": 4326,
     "status": "ok",
     "timestamp": 1675011682632,
     "user": {
      "displayName": "Zain Ayaz",
      "userId": "00806274398273992607"
     },
     "user_tz": -300
    },
    "id": "1ytDEk1YPObq",
    "outputId": "967defce-2ea4-49d8-9cb6-8c2d3f66e5a3"
   },
   "outputs": [
    {
     "name": "stdout",
     "output_type": "stream",
     "text": [
      "Looking in indexes: https://pypi.org/simple, https://us-python.pkg.dev/colab-wheels/public/simple/\n",
      "Collecting loguru\n",
      "  Downloading loguru-0.6.0-py3-none-any.whl (58 kB)\n",
      "\u001b[?25l     \u001b[90m━━━━━━━━━━━━━━━━━━━━━━━━━━━━━━━━━━━━━━━━\u001b[0m \u001b[32m0.0/58.3 KB\u001b[0m \u001b[31m?\u001b[0m eta \u001b[36m-:--:--\u001b[0m\r",
      "\u001b[2K     \u001b[90m━━━━━━━━━━━━━━━━━━━━━━━━━━━━━━━━━━━━━━━━\u001b[0m \u001b[32m58.3/58.3 KB\u001b[0m \u001b[31m2.7 MB/s\u001b[0m eta \u001b[36m0:00:00\u001b[0m\n",
      "\u001b[?25hInstalling collected packages: loguru\n",
      "Successfully installed loguru-0.6.0\n"
     ]
    }
   ],
   "source": [
    "!pip install loguru"
   ]
  },
  {
   "cell_type": "code",
   "execution_count": null,
   "metadata": {
    "id": "tcelFkNMPFTA"
   },
   "outputs": [],
   "source": [
    "from data_provider import lanenet_data_feed_pipline\n",
    "from local_utils.log_util import init_logger"
   ]
  },
  {
   "cell_type": "code",
   "execution_count": null,
   "metadata": {
    "id": "Hidj42dfGq2z"
   },
   "outputs": [],
   "source": [
    "LOG = init_logger.get_logger(log_file_name_prefix='generate_tusimple_tfrecords')"
   ]
  },
  {
   "cell_type": "code",
   "execution_count": null,
   "metadata": {
    "colab": {
     "base_uri": "https://localhost:8080/"
    },
    "executionInfo": {
     "elapsed": 517,
     "status": "ok",
     "timestamp": 1675011691184,
     "user": {
      "displayName": "Zain Ayaz",
      "userId": "00806274398273992607"
     },
     "user_tz": -300
    },
    "id": "Dv6UinctXbDf",
    "outputId": "34419c53-38ad-4cc0-e99e-ba0a62ae80d9"
   },
   "outputs": [
    {
     "name": "stdout",
     "output_type": "stream",
     "text": [
      "B: /drive/MyDrive/new_projects/lane_detection/lanenet-lane-detection/data/training/gt_binary_image\n",
      "I: /drive/MyDrive/new_projects/lane_detection/lanenet-lane-detection/data/training/gt_instance_image\n",
      "M: /drive/MyDrive/new_projects/lane_detection/lanenet-lane-detection/data/training/gt_image\n",
      "B: True\n",
      "I: True\n",
      "M: True\n"
     ]
    }
   ],
   "source": [
    "producer = lanenet_data_feed_pipline.LaneNetDataProducer()"
   ]
  },
  {
   "cell_type": "code",
   "execution_count": null,
   "metadata": {
    "colab": {
     "base_uri": "https://localhost:8080/",
     "height": 534
    },
    "executionInfo": {
     "elapsed": 2124825,
     "status": "error",
     "timestamp": 1675013817814,
     "user": {
      "displayName": "Zain Ayaz",
      "userId": "00806274398273992607"
     },
     "user_tz": -300
    },
    "id": "REHc8NLmOCuQ",
    "outputId": "132d8883-09af-4fc3-c05c-f3e6f856c5ad"
   },
   "outputs": [
    {
     "name": "stderr",
     "output_type": "stream",
     "text": [
      "2023-01-29 17:01:32.783 | INFO     | data_provider.lanenet_data_feed_pipline:generate_tfrecords:91 - Start generating training example tfrecords\n",
      "2023-01-29 17:01:33.236 | INFO     | data_provider.tf_io_pipline_tools:write_example_tfrecords:59 - Writing /drive/MyDrive/new_projects/lane_detection/lanenet-lane-detection/data/training/tfrecords/tusimple_train.tfrecords....\n",
      "2023-01-29 17:33:36.087 | INFO     | data_provider.tf_io_pipline_tools:write_example_tfrecords:104 - Writing /drive/MyDrive/new_projects/lane_detection/lanenet-lane-detection/data/training/tfrecords/tusimple_train.tfrecords complete\n",
      "2023-01-29 17:33:36.105 | INFO     | data_provider.lanenet_data_feed_pipline:generate_tfrecords:105 - Generating training example tfrecords complete\n",
      "2023-01-29 17:33:36.112 | INFO     | data_provider.lanenet_data_feed_pipline:generate_tfrecords:108 - Start generating validation example tfrecords\n",
      "2023-01-29 17:33:36.268 | INFO     | data_provider.tf_io_pipline_tools:write_example_tfrecords:59 - Writing /drive/MyDrive/new_projects/lane_detection/lanenet-lane-detection/data/training/tfrecords/tusimple_val.tfrecords....\n",
      "2023-01-29 17:36:56.743 | INFO     | data_provider.tf_io_pipline_tools:write_example_tfrecords:104 - Writing /drive/MyDrive/new_projects/lane_detection/lanenet-lane-detection/data/training/tfrecords/tusimple_val.tfrecords complete\n",
      "2023-01-29 17:36:56.753 | INFO     | data_provider.lanenet_data_feed_pipline:generate_tfrecords:122 - Generating validation example tfrecords complete\n",
      "2023-01-29 17:36:56.755 | INFO     | data_provider.lanenet_data_feed_pipline:generate_tfrecords:125 - Start generating testing example tfrecords\n"
     ]
    },
    {
     "ename": "IndexError",
     "evalue": "ignored",
     "output_type": "error",
     "traceback": [
      "\u001b[0;31m---------------------------------------------------------------------------\u001b[0m",
      "\u001b[0;31mIndexError\u001b[0m                                Traceback (most recent call last)",
      "\u001b[0;32m<ipython-input-8-8120c1f84c27>\u001b[0m in \u001b[0;36m<module>\u001b[0;34m\u001b[0m\n\u001b[0;32m----> 1\u001b[0;31m \u001b[0mproducer\u001b[0m\u001b[0;34m.\u001b[0m\u001b[0mgenerate_tfrecords\u001b[0m\u001b[0;34m(\u001b[0m\u001b[0;34m)\u001b[0m\u001b[0;34m\u001b[0m\u001b[0;34m\u001b[0m\u001b[0m\n\u001b[0m",
      "\u001b[0;32m/drive/MyDrive/new_projects/lane_detection/lanenet-lane-detection/data_provider/lanenet_data_feed_pipline.py\u001b[0m in \u001b[0;36mgenerate_tfrecords\u001b[0;34m(self)\u001b[0m\n\u001b[1;32m    126\u001b[0m \u001b[0;34m\u001b[0m\u001b[0m\n\u001b[1;32m    127\u001b[0m         \u001b[0;31m# collecting test images paths info\u001b[0m\u001b[0;34m\u001b[0m\u001b[0;34m\u001b[0m\u001b[0;34m\u001b[0m\u001b[0m\n\u001b[0;32m--> 128\u001b[0;31m         \u001b[0mtest_image_paths_info\u001b[0m \u001b[0;34m=\u001b[0m \u001b[0m_read_training_example_index_file\u001b[0m\u001b[0;34m(\u001b[0m\u001b[0mself\u001b[0m\u001b[0;34m.\u001b[0m\u001b[0m_test_example_index_file_path\u001b[0m\u001b[0;34m)\u001b[0m\u001b[0;34m\u001b[0m\u001b[0;34m\u001b[0m\u001b[0m\n\u001b[0m\u001b[1;32m    129\u001b[0m         \u001b[0mtest_gt_images_paths\u001b[0m \u001b[0;34m=\u001b[0m \u001b[0mtest_image_paths_info\u001b[0m\u001b[0;34m[\u001b[0m\u001b[0;34m'gt_path_info'\u001b[0m\u001b[0;34m]\u001b[0m\u001b[0;34m\u001b[0m\u001b[0;34m\u001b[0m\u001b[0m\n\u001b[1;32m    130\u001b[0m         \u001b[0mtest_gt_binary_images_paths\u001b[0m \u001b[0;34m=\u001b[0m \u001b[0mtest_image_paths_info\u001b[0m\u001b[0;34m[\u001b[0m\u001b[0;34m'gt_binary_path_info'\u001b[0m\u001b[0;34m]\u001b[0m\u001b[0;34m\u001b[0m\u001b[0;34m\u001b[0m\u001b[0m\n",
      "\u001b[0;32m/drive/MyDrive/new_projects/lane_detection/lanenet-lane-detection/data_provider/lanenet_data_feed_pipline.py\u001b[0m in \u001b[0;36m_read_training_example_index_file\u001b[0;34m(_index_file_path)\u001b[0m\n\u001b[1;32m     75\u001b[0m                     \u001b[0m_example_gt_path_info\u001b[0m\u001b[0;34m.\u001b[0m\u001b[0mappend\u001b[0m\u001b[0;34m(\u001b[0m\u001b[0m_example_info\u001b[0m\u001b[0;34m[\u001b[0m\u001b[0;36m0\u001b[0m\u001b[0;34m]\u001b[0m\u001b[0;34m)\u001b[0m\u001b[0;34m\u001b[0m\u001b[0;34m\u001b[0m\u001b[0m\n\u001b[1;32m     76\u001b[0m                     \u001b[0m_example_gt_binary_path_info\u001b[0m\u001b[0;34m.\u001b[0m\u001b[0mappend\u001b[0m\u001b[0;34m(\u001b[0m\u001b[0m_example_info\u001b[0m\u001b[0;34m[\u001b[0m\u001b[0;36m1\u001b[0m\u001b[0;34m]\u001b[0m\u001b[0;34m)\u001b[0m\u001b[0;34m\u001b[0m\u001b[0;34m\u001b[0m\u001b[0m\n\u001b[0;32m---> 77\u001b[0;31m                     \u001b[0m_example_gt_instance_path_info\u001b[0m\u001b[0;34m.\u001b[0m\u001b[0mappend\u001b[0m\u001b[0;34m(\u001b[0m\u001b[0m_example_info\u001b[0m\u001b[0;34m[\u001b[0m\u001b[0;36m2\u001b[0m\u001b[0;34m]\u001b[0m\u001b[0;34m)\u001b[0m\u001b[0;34m\u001b[0m\u001b[0;34m\u001b[0m\u001b[0m\n\u001b[0m\u001b[1;32m     78\u001b[0m \u001b[0;34m\u001b[0m\u001b[0m\n\u001b[1;32m     79\u001b[0m             ret = {\n",
      "\u001b[0;31mIndexError\u001b[0m: list index out of range"
     ]
    }
   ],
   "source": [
    "producer.generate_tfrecords()"
   ]
  }
 ],
 "metadata": {
  "colab": {
   "authorship_tag": "ABX9TyMMCnypHMd1vu/Ginv964O6",
   "provenance": []
  },
  "kernelspec": {
   "display_name": "Python 3 (ipykernel)",
   "language": "python",
   "name": "python3"
  },
  "language_info": {
   "codemirror_mode": {
    "name": "ipython",
    "version": 3
   },
   "file_extension": ".py",
   "mimetype": "text/x-python",
   "name": "python",
   "nbconvert_exporter": "python",
   "pygments_lexer": "ipython3",
   "version": "3.9.12"
  }
 },
 "nbformat": 4,
 "nbformat_minor": 1
}
